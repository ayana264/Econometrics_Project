{
 "cells": [
  {
   "cell_type": "code",
   "execution_count": 1,
   "id": "9cd791e1-e527-458c-9378-e68aa6b1721e",
   "metadata": {},
   "outputs": [
    {
     "name": "stdout",
     "output_type": "stream",
     "text": [
      "hello world\n"
     ]
    }
   ],
   "source": [
    "print(\"hello world\")"
   ]
  },
  {
   "cell_type": "code",
   "execution_count": 2,
   "id": "56b8e205-89dd-44ce-8e44-2e22f1de0e5c",
   "metadata": {},
   "outputs": [],
   "source": [
    "import numpy as np\n",
    "import pandas as pd\n",
    "import seaborn as sns\n",
    "import matplotlib.pyplot as plt"
   ]
  },
  {
   "cell_type": "code",
   "execution_count": 3,
   "id": "48ecf3c5-67ad-4b5f-9e6f-a6dda2cdd857",
   "metadata": {},
   "outputs": [],
   "source": [
    "#pip install pandas"
   ]
  },
  {
   "cell_type": "code",
   "execution_count": 4,
   "id": "5aa68acb-9ee2-48bb-8c3b-5e9009bdd352",
   "metadata": {},
   "outputs": [],
   "source": [
    "df=pd.read_csv(r\"C:\\Users\\ARCHI\\Downloads\\Dataset.csv\")"
   ]
  },
  {
   "cell_type": "code",
   "execution_count": 5,
   "id": "dfb91229-4027-4ee2-9457-14df2742d1d6",
   "metadata": {},
   "outputs": [],
   "source": [
    "df=pd.read_csv(\"Dataset.csv\")"
   ]
  },
  {
   "cell_type": "code",
   "execution_count": 6,
   "id": "4332d3b2-e5bd-440e-98bf-2ffb0a3b1fd4",
   "metadata": {},
   "outputs": [
    {
     "data": {
      "text/html": [
       "<div>\n",
       "<style scoped>\n",
       "    .dataframe tbody tr th:only-of-type {\n",
       "        vertical-align: middle;\n",
       "    }\n",
       "\n",
       "    .dataframe tbody tr th {\n",
       "        vertical-align: top;\n",
       "    }\n",
       "\n",
       "    .dataframe thead th {\n",
       "        text-align: right;\n",
       "    }\n",
       "</style>\n",
       "<table border=\"1\" class=\"dataframe\">\n",
       "  <thead>\n",
       "    <tr style=\"text-align: right;\">\n",
       "      <th></th>\n",
       "      <th>Country_Name</th>\n",
       "      <th>Country_Code</th>\n",
       "      <th>Total_Fertility_rate</th>\n",
       "      <th>Female_Labour Force_Participation_Rate</th>\n",
       "      <th>Unemployment_Rate</th>\n",
       "      <th>Literacy_Rate</th>\n",
       "      <th>Life_Expectancy</th>\n",
       "    </tr>\n",
       "  </thead>\n",
       "  <tbody>\n",
       "    <tr>\n",
       "      <th>0</th>\n",
       "      <td>Afghanistan</td>\n",
       "      <td>AFG</td>\n",
       "      <td>4.523</td>\n",
       "      <td>5.342</td>\n",
       "      <td>26.7</td>\n",
       "      <td>22.6</td>\n",
       "      <td>66</td>\n",
       "    </tr>\n",
       "    <tr>\n",
       "      <th>1</th>\n",
       "      <td>Albania</td>\n",
       "      <td>ALB</td>\n",
       "      <td>1.376</td>\n",
       "      <td>63.446</td>\n",
       "      <td>11.4</td>\n",
       "      <td>98.30000305</td>\n",
       "      <td>79</td>\n",
       "    </tr>\n",
       "    <tr>\n",
       "      <th>2</th>\n",
       "      <td>Algeria</td>\n",
       "      <td>DZA</td>\n",
       "      <td>2.829</td>\n",
       "      <td>18.049</td>\n",
       "      <td>21.7</td>\n",
       "      <td>75.3</td>\n",
       "      <td>78</td>\n",
       "    </tr>\n",
       "    <tr>\n",
       "      <th>3</th>\n",
       "      <td>Argentina</td>\n",
       "      <td>ARG</td>\n",
       "      <td>1.876</td>\n",
       "      <td>58.9</td>\n",
       "      <td>7.66</td>\n",
       "      <td>99.1</td>\n",
       "      <td>79</td>\n",
       "    </tr>\n",
       "    <tr>\n",
       "      <th>4</th>\n",
       "      <td>Armenia</td>\n",
       "      <td>ARM</td>\n",
       "      <td>1.575</td>\n",
       "      <td>68.552</td>\n",
       "      <td>6.1</td>\n",
       "      <td>99.7</td>\n",
       "      <td>78</td>\n",
       "    </tr>\n",
       "  </tbody>\n",
       "</table>\n",
       "</div>"
      ],
      "text/plain": [
       "  Country_Name Country_Code Total_Fertility_rate   \\\n",
       "0  Afghanistan          AFG                 4.523   \n",
       "1      Albania          ALB                 1.376   \n",
       "2      Algeria          DZA                 2.829   \n",
       "3    Argentina          ARG                 1.876   \n",
       "4      Armenia          ARM                 1.575   \n",
       "\n",
       "  Female_Labour Force_Participation_Rate Unemployment_Rate Literacy_Rate  \\\n",
       "0                                  5.342              26.7          22.6   \n",
       "1                                 63.446              11.4   98.30000305   \n",
       "2                                 18.049              21.7          75.3   \n",
       "3                                   58.9              7.66          99.1   \n",
       "4                                 68.552               6.1          99.7   \n",
       "\n",
       "  Life_Expectancy   \n",
       "0               66  \n",
       "1               79  \n",
       "2               78  \n",
       "3               79  \n",
       "4               78  "
      ]
     },
     "execution_count": 6,
     "metadata": {},
     "output_type": "execute_result"
    }
   ],
   "source": [
    "df.head()"
   ]
  },
  {
   "cell_type": "code",
   "execution_count": 7,
   "id": "97030f6b-eefd-4f23-bc43-5ad9a034d5a9",
   "metadata": {},
   "outputs": [
    {
     "data": {
      "text/plain": [
       "Country_Name                               0.000000\n",
       "Country_Code                               0.000000\n",
       "Total_Fertility_rate                       0.952381\n",
       "Female_Labour Force_Participation_Rate     3.809524\n",
       "Unemployment_Rate                          6.666667\n",
       "Literacy_Rate                             19.047619\n",
       "Life_Expectancy                            0.952381\n",
       "dtype: float64"
      ]
     },
     "execution_count": 7,
     "metadata": {},
     "output_type": "execute_result"
    }
   ],
   "source": [
    "dc=(df==\"..\").sum()\n",
    "tc=df.shape[0]\n",
    "prop=(dc/tc)*100\n",
    "prop"
   ]
  },
  {
   "cell_type": "code",
   "execution_count": 8,
   "id": "378d926d-0271-40ed-a3aa-4327d59b85e9",
   "metadata": {},
   "outputs": [],
   "source": [
    "df.replace(\"..\",np.nan,inplace=True)\n",
    "for cols in ['Total_Fertility_rate ','Female_Labour Force_Participation_Rate', 'Unemployment_Rate','Literacy_Rate', 'Life_Expectancy ']:\n",
    "    df[cols]=df[cols].apply(pd.to_numeric)\n",
    "    df[cols]=df[cols].fillna(df[cols].mean())"
   ]
  },
  {
   "cell_type": "code",
   "execution_count": 9,
   "id": "400a9aa4-d7bf-4286-9e6a-a9c976bf5c2a",
   "metadata": {},
   "outputs": [
    {
     "data": {
      "text/plain": [
       "Country_Name                              0.0\n",
       "Country_Code                              0.0\n",
       "Total_Fertility_rate                      0.0\n",
       "Female_Labour Force_Participation_Rate    0.0\n",
       "Unemployment_Rate                         0.0\n",
       "Literacy_Rate                             0.0\n",
       "Life_Expectancy                           0.0\n",
       "dtype: float64"
      ]
     },
     "execution_count": 9,
     "metadata": {},
     "output_type": "execute_result"
    }
   ],
   "source": [
    "dc=(df==\"..\").sum()\n",
    "tc=df.shape[0]\n",
    "prop=(dc/tc)*100\n",
    "prop"
   ]
  },
  {
   "cell_type": "code",
   "execution_count": 10,
   "id": "de67377b-d36f-4d5f-8d66-b9953c952a28",
   "metadata": {},
   "outputs": [
    {
     "name": "stdout",
     "output_type": "stream",
     "text": [
      "<class 'pandas.core.frame.DataFrame'>\n",
      "RangeIndex: 105 entries, 0 to 104\n",
      "Data columns (total 7 columns):\n",
      " #   Column                                  Non-Null Count  Dtype  \n",
      "---  ------                                  --------------  -----  \n",
      " 0   Country_Name                            105 non-null    object \n",
      " 1   Country_Code                            105 non-null    object \n",
      " 2   Total_Fertility_rate                    105 non-null    float64\n",
      " 3   Female_Labour Force_Participation_Rate  105 non-null    float64\n",
      " 4   Unemployment_Rate                       105 non-null    float64\n",
      " 5   Literacy_Rate                           105 non-null    float64\n",
      " 6   Life_Expectancy                         105 non-null    float64\n",
      "dtypes: float64(5), object(2)\n",
      "memory usage: 5.9+ KB\n"
     ]
    }
   ],
   "source": [
    "df.info()"
   ]
  },
  {
   "cell_type": "code",
   "execution_count": 11,
   "id": "fe7dbe0d-5684-406b-bee3-873958ddbe3e",
   "metadata": {},
   "outputs": [],
   "source": [
    "df[\"Country_Name\"]=df[\"Country_Name\"].astype(str)"
   ]
  },
  {
   "cell_type": "code",
   "execution_count": 12,
   "id": "05f7e20a-787e-48c7-ab41-1dc5635b7ae5",
   "metadata": {},
   "outputs": [],
   "source": [
    "df[\"Country_Code\"]=df[\"Country_Code\"].astype(str)"
   ]
  },
  {
   "cell_type": "code",
   "execution_count": 13,
   "id": "1adc361f-85ba-457d-9fc0-e717e0c53848",
   "metadata": {},
   "outputs": [
    {
     "data": {
      "text/plain": [
       "Index(['Country_Name', 'Country_Code', 'Total_Fertility_rate ',\n",
       "       'Female_Labour Force_Participation_Rate', 'Unemployment_Rate',\n",
       "       'Literacy_Rate', 'Life_Expectancy '],\n",
       "      dtype='object')"
      ]
     },
     "execution_count": 13,
     "metadata": {},
     "output_type": "execute_result"
    }
   ],
   "source": [
    "df.columns"
   ]
  },
  {
   "cell_type": "code",
   "execution_count": 14,
   "id": "100f7dfe-76b8-470e-b19b-4ad362655175",
   "metadata": {},
   "outputs": [],
   "source": [
    "for cols in ['Total_Fertility_rate ', 'Female_Labour Force_Participation_Rate', 'Unemployment_Rate', 'Literacy_Rate']:\n",
    "    #df.replace(\"..\",0.0,inplace=True)\n",
    "    df[cols]=df[cols].astype(float)"
   ]
  },
  {
   "cell_type": "code",
   "execution_count": 15,
   "id": "9d266096-962e-4f14-add5-983ca41c337e",
   "metadata": {},
   "outputs": [],
   "source": [
    "df[\"Life_Expectancy\"]=df[\"Life_Expectancy \"].astype(int)"
   ]
  },
  {
   "cell_type": "code",
   "execution_count": 16,
   "id": "9de6dd0e-4fe2-47a7-ba34-a3ae7c9b0d77",
   "metadata": {},
   "outputs": [],
   "source": [
    "df['Total_Fertility_rate']=df['Total_Fertility_rate ']"
   ]
  },
  {
   "cell_type": "code",
   "execution_count": 17,
   "id": "60cdb604-a868-465f-b41f-1a4866bafab6",
   "metadata": {},
   "outputs": [],
   "source": [
    "df.drop(columns=[\"Life_Expectancy \",'Total_Fertility_rate '],inplace=True)"
   ]
  },
  {
   "cell_type": "code",
   "execution_count": 18,
   "id": "eb1ed8fc-16f3-4732-b045-cf4894f2df42",
   "metadata": {},
   "outputs": [
    {
     "data": {
      "text/html": [
       "<div>\n",
       "<style scoped>\n",
       "    .dataframe tbody tr th:only-of-type {\n",
       "        vertical-align: middle;\n",
       "    }\n",
       "\n",
       "    .dataframe tbody tr th {\n",
       "        vertical-align: top;\n",
       "    }\n",
       "\n",
       "    .dataframe thead th {\n",
       "        text-align: right;\n",
       "    }\n",
       "</style>\n",
       "<table border=\"1\" class=\"dataframe\">\n",
       "  <thead>\n",
       "    <tr style=\"text-align: right;\">\n",
       "      <th></th>\n",
       "      <th>Country_Name</th>\n",
       "      <th>Country_Code</th>\n",
       "      <th>Female_Labour Force_Participation_Rate</th>\n",
       "      <th>Unemployment_Rate</th>\n",
       "      <th>Literacy_Rate</th>\n",
       "      <th>Life_Expectancy</th>\n",
       "      <th>Total_Fertility_rate</th>\n",
       "    </tr>\n",
       "  </thead>\n",
       "  <tbody>\n",
       "    <tr>\n",
       "      <th>0</th>\n",
       "      <td>Afghanistan</td>\n",
       "      <td>AFG</td>\n",
       "      <td>5.342</td>\n",
       "      <td>26.70</td>\n",
       "      <td>22.600000</td>\n",
       "      <td>66</td>\n",
       "      <td>4.523</td>\n",
       "    </tr>\n",
       "    <tr>\n",
       "      <th>1</th>\n",
       "      <td>Albania</td>\n",
       "      <td>ALB</td>\n",
       "      <td>63.446</td>\n",
       "      <td>11.40</td>\n",
       "      <td>98.300003</td>\n",
       "      <td>79</td>\n",
       "      <td>1.376</td>\n",
       "    </tr>\n",
       "    <tr>\n",
       "      <th>2</th>\n",
       "      <td>Algeria</td>\n",
       "      <td>DZA</td>\n",
       "      <td>18.049</td>\n",
       "      <td>21.70</td>\n",
       "      <td>75.300000</td>\n",
       "      <td>78</td>\n",
       "      <td>2.829</td>\n",
       "    </tr>\n",
       "    <tr>\n",
       "      <th>3</th>\n",
       "      <td>Argentina</td>\n",
       "      <td>ARG</td>\n",
       "      <td>58.900</td>\n",
       "      <td>7.66</td>\n",
       "      <td>99.100000</td>\n",
       "      <td>79</td>\n",
       "      <td>1.876</td>\n",
       "    </tr>\n",
       "    <tr>\n",
       "      <th>4</th>\n",
       "      <td>Armenia</td>\n",
       "      <td>ARM</td>\n",
       "      <td>68.552</td>\n",
       "      <td>6.10</td>\n",
       "      <td>99.700000</td>\n",
       "      <td>78</td>\n",
       "      <td>1.575</td>\n",
       "    </tr>\n",
       "  </tbody>\n",
       "</table>\n",
       "</div>"
      ],
      "text/plain": [
       "  Country_Name Country_Code  Female_Labour Force_Participation_Rate  \\\n",
       "0  Afghanistan          AFG                                   5.342   \n",
       "1      Albania          ALB                                  63.446   \n",
       "2      Algeria          DZA                                  18.049   \n",
       "3    Argentina          ARG                                  58.900   \n",
       "4      Armenia          ARM                                  68.552   \n",
       "\n",
       "   Unemployment_Rate  Literacy_Rate  Life_Expectancy  Total_Fertility_rate  \n",
       "0              26.70      22.600000               66                 4.523  \n",
       "1              11.40      98.300003               79                 1.376  \n",
       "2              21.70      75.300000               78                 2.829  \n",
       "3               7.66      99.100000               79                 1.876  \n",
       "4               6.10      99.700000               78                 1.575  "
      ]
     },
     "execution_count": 18,
     "metadata": {},
     "output_type": "execute_result"
    }
   ],
   "source": [
    "df.head()"
   ]
  },
  {
   "cell_type": "code",
   "execution_count": 19,
   "id": "1981f1e8-f58f-44af-b5d8-874f73d6d16a",
   "metadata": {},
   "outputs": [
    {
     "name": "stdout",
     "output_type": "stream",
     "text": [
      "<class 'pandas.core.frame.DataFrame'>\n",
      "RangeIndex: 105 entries, 0 to 104\n",
      "Data columns (total 7 columns):\n",
      " #   Column                                  Non-Null Count  Dtype  \n",
      "---  ------                                  --------------  -----  \n",
      " 0   Country_Name                            105 non-null    object \n",
      " 1   Country_Code                            105 non-null    object \n",
      " 2   Female_Labour Force_Participation_Rate  105 non-null    float64\n",
      " 3   Unemployment_Rate                       105 non-null    float64\n",
      " 4   Literacy_Rate                           105 non-null    float64\n",
      " 5   Life_Expectancy                         105 non-null    int64  \n",
      " 6   Total_Fertility_rate                    105 non-null    float64\n",
      "dtypes: float64(4), int64(1), object(2)\n",
      "memory usage: 5.9+ KB\n"
     ]
    }
   ],
   "source": [
    "df.info()"
   ]
  },
  {
   "cell_type": "code",
   "execution_count": 20,
   "id": "0897d308-fe5c-43ad-9925-c1c423c1d73e",
   "metadata": {},
   "outputs": [
    {
     "data": {
      "text/html": [
       "<div>\n",
       "<style scoped>\n",
       "    .dataframe tbody tr th:only-of-type {\n",
       "        vertical-align: middle;\n",
       "    }\n",
       "\n",
       "    .dataframe tbody tr th {\n",
       "        vertical-align: top;\n",
       "    }\n",
       "\n",
       "    .dataframe thead th {\n",
       "        text-align: right;\n",
       "    }\n",
       "</style>\n",
       "<table border=\"1\" class=\"dataframe\">\n",
       "  <thead>\n",
       "    <tr style=\"text-align: right;\">\n",
       "      <th></th>\n",
       "      <th>Female_Labour Force_Participation_Rate</th>\n",
       "      <th>Unemployment_Rate</th>\n",
       "      <th>Literacy_Rate</th>\n",
       "      <th>Life_Expectancy</th>\n",
       "      <th>Total_Fertility_rate</th>\n",
       "    </tr>\n",
       "  </thead>\n",
       "  <tbody>\n",
       "    <tr>\n",
       "      <th>count</th>\n",
       "      <td>105.000000</td>\n",
       "      <td>105.000000</td>\n",
       "      <td>105.000000</td>\n",
       "      <td>105.000000</td>\n",
       "      <td>105.000000</td>\n",
       "    </tr>\n",
       "    <tr>\n",
       "      <th>mean</th>\n",
       "      <td>57.748772</td>\n",
       "      <td>8.332214</td>\n",
       "      <td>84.031905</td>\n",
       "      <td>76.495238</td>\n",
       "      <td>2.196058</td>\n",
       "    </tr>\n",
       "    <tr>\n",
       "      <th>std</th>\n",
       "      <td>18.609595</td>\n",
       "      <td>7.134166</td>\n",
       "      <td>19.132563</td>\n",
       "      <td>7.695058</td>\n",
       "      <td>1.124943</td>\n",
       "    </tr>\n",
       "    <tr>\n",
       "      <th>min</th>\n",
       "      <td>5.342000</td>\n",
       "      <td>0.300000</td>\n",
       "      <td>22.600000</td>\n",
       "      <td>56.000000</td>\n",
       "      <td>0.701000</td>\n",
       "    </tr>\n",
       "    <tr>\n",
       "      <th>25%</th>\n",
       "      <td>48.422000</td>\n",
       "      <td>3.800000</td>\n",
       "      <td>79.900000</td>\n",
       "      <td>73.000000</td>\n",
       "      <td>1.449000</td>\n",
       "    </tr>\n",
       "    <tr>\n",
       "      <th>50%</th>\n",
       "      <td>61.993000</td>\n",
       "      <td>5.500000</td>\n",
       "      <td>91.763161</td>\n",
       "      <td>78.000000</td>\n",
       "      <td>1.793000</td>\n",
       "    </tr>\n",
       "    <tr>\n",
       "      <th>75%</th>\n",
       "      <td>71.846000</td>\n",
       "      <td>9.349000</td>\n",
       "      <td>98.400000</td>\n",
       "      <td>83.000000</td>\n",
       "      <td>2.584000</td>\n",
       "    </tr>\n",
       "    <tr>\n",
       "      <th>max</th>\n",
       "      <td>84.054000</td>\n",
       "      <td>36.300000</td>\n",
       "      <td>100.000000</td>\n",
       "      <td>87.000000</td>\n",
       "      <td>6.749000</td>\n",
       "    </tr>\n",
       "  </tbody>\n",
       "</table>\n",
       "</div>"
      ],
      "text/plain": [
       "       Female_Labour Force_Participation_Rate  Unemployment_Rate  \\\n",
       "count                              105.000000         105.000000   \n",
       "mean                                57.748772           8.332214   \n",
       "std                                 18.609595           7.134166   \n",
       "min                                  5.342000           0.300000   \n",
       "25%                                 48.422000           3.800000   \n",
       "50%                                 61.993000           5.500000   \n",
       "75%                                 71.846000           9.349000   \n",
       "max                                 84.054000          36.300000   \n",
       "\n",
       "       Literacy_Rate  Life_Expectancy  Total_Fertility_rate  \n",
       "count     105.000000       105.000000            105.000000  \n",
       "mean       84.031905        76.495238              2.196058  \n",
       "std        19.132563         7.695058              1.124943  \n",
       "min        22.600000        56.000000              0.701000  \n",
       "25%        79.900000        73.000000              1.449000  \n",
       "50%        91.763161        78.000000              1.793000  \n",
       "75%        98.400000        83.000000              2.584000  \n",
       "max       100.000000        87.000000              6.749000  "
      ]
     },
     "execution_count": 20,
     "metadata": {},
     "output_type": "execute_result"
    }
   ],
   "source": [
    "df.describe()"
   ]
  },
  {
   "cell_type": "code",
   "execution_count": 21,
   "id": "7f81aa52-b6af-4cd0-bfec-42c032f989e6",
   "metadata": {},
   "outputs": [
    {
     "data": {
      "image/png": "[encoded data removed]",
      "text/plain": [
       "<Figure size 800x600 with 1 Axes>"
      ]
     },
     "metadata": {},
     "output_type": "display_data"
    }
   ],
   "source": [
    "# Customize the boxplot\n",
    "plt.figure(figsize=(8, 6))  # Set the figure size\n",
    "sns.boxplot(\n",
    "    y=df['Total_Fertility_rate'],  # Column name\n",
    "    color=\"skyblue\",  # Change box color\n",
    "    saturation=0.8,   # Adjust transparency\n",
    "    width=0.4,        # Narrower box width\n",
    "    notch=True\n",
    ")\n",
    "\n",
    "# Add title and labels\n",
    "plt.title(\"Distribution of Total Fertility Rate\", fontsize=16, fontweight='bold')\n",
    "plt.ylabel(\"Total Fertility Rate\", fontsize=12)\n",
    "plt.xticks(fontsize=10)  # Customize x-axis tick labels (if needed)\n",
    "plt.yticks(fontsize=10)  # Customize y-axis tick labels\n",
    "plt.grid(axis=\"y\", linestyle=\"--\", alpha=0.7)  # Add a grid for better readability\n",
    "\n",
    "# Show the plot\n",
    "plt.show()"
   ]
  },
  {
   "cell_type": "code",
   "execution_count": 22,
   "id": "d80033bc-56e5-4d2e-a74e-83a5fb40a3b0",
   "metadata": {},
   "outputs": [
    {
     "data": {
      "image/png": "[encoded data removed]",
      "text/plain": [
       "<Figure size 800x600 with 1 Axes>"
      ]
     },
     "metadata": {},
     "output_type": "display_data"
    },
    {
     "data": {
      "image/png": "[encoded data removed]",
      "text/plain": [
       "<Figure size 800x600 with 1 Axes>"
      ]
     },
     "metadata": {},
     "output_type": "display_data"
    },
    {
     "data": {
      "image/png": "[encoded data removed]",
      "text/plain": [
       "<Figure size 800x600 with 1 Axes>"
      ]
     },
     "metadata": {},
     "output_type": "display_data"
    },
    {
     "data": {
      "image/png": "[encoded data removed]",
      "text/plain": [
       "<Figure size 800x600 with 1 Axes>"
      ]
     },
     "metadata": {},
     "output_type": "display_data"
    },
    {
     "data": {
      "image/png": "[encoded data removed]",
      "text/plain": [
       "<Figure size 800x600 with 1 Axes>"
      ]
     },
     "metadata": {},
     "output_type": "display_data"
    }
   ],
   "source": [
    "# List of specific columns to plot\n",
    "columns_to_plot = [\n",
    "    'Total_Fertility_rate',\n",
    "    'Female_Labour Force_Participation_Rate',\n",
    "    'Unemployment_Rate',\n",
    "    'Literacy_Rate',\n",
    "    'Life_Expectancy'\n",
    "]\n",
    "\n",
    "# Iterate over the selected columns and create a boxplot for each\n",
    "for col in columns_to_plot:\n",
    "    plt.figure(figsize=(8, 6))  # Set the figure size\n",
    "    sns.boxplot(\n",
    "        y=df[col],  # Current column\n",
    "        color=\"skyblue\",  # Change box color\n",
    "        saturation=0.8,   # Adjust transparency\n",
    "        width=0.4,        # Narrower box width\n",
    "        notch=True        # Add a notch for visualizing the median confidence interval\n",
    "    )\n",
    "    \n",
    "    # Add title and labels\n",
    "    plt.title(f\"Distribution of {col.strip()}\", fontsize=16, fontweight='bold')  # Use `strip()` to clean up column names\n",
    "    plt.ylabel(col.strip(), fontsize=12)  # Clean up column name for label\n",
    "    plt.xticks(fontsize=10)  # Customize x-axis tick labels\n",
    "    plt.yticks(fontsize=10)  # Customize y-axis tick labels\n",
    "    plt.grid(axis=\"y\", linestyle=\"--\", alpha=0.7)  # Add a grid for better readability\n",
    "    \n",
    "    # Show the plot\n",
    "    plt.show()"
   ]
  },
  {
   "cell_type": "code",
   "execution_count": 23,
   "id": "45495160-0baa-4121-b1ac-75d69b9d5359",
   "metadata": {},
   "outputs": [
    {
     "data": {
      "text/html": [
       "<div>\n",
       "<style scoped>\n",
       "    .dataframe tbody tr th:only-of-type {\n",
       "        vertical-align: middle;\n",
       "    }\n",
       "\n",
       "    .dataframe tbody tr th {\n",
       "        vertical-align: top;\n",
       "    }\n",
       "\n",
       "    .dataframe thead th {\n",
       "        text-align: right;\n",
       "    }\n",
       "</style>\n",
       "<table border=\"1\" class=\"dataframe\">\n",
       "  <thead>\n",
       "    <tr style=\"text-align: right;\">\n",
       "      <th></th>\n",
       "      <th>column</th>\n",
       "      <th>outlier count</th>\n",
       "    </tr>\n",
       "  </thead>\n",
       "  <tbody>\n",
       "    <tr>\n",
       "      <th>0</th>\n",
       "      <td>Total_Fertility_rate</td>\n",
       "      <td>10</td>\n",
       "    </tr>\n",
       "    <tr>\n",
       "      <th>1</th>\n",
       "      <td>Female_Labour Force_Participation_Rate</td>\n",
       "      <td>2</td>\n",
       "    </tr>\n",
       "    <tr>\n",
       "      <th>2</th>\n",
       "      <td>Unemployment_Rate</td>\n",
       "      <td>10</td>\n",
       "    </tr>\n",
       "    <tr>\n",
       "      <th>3</th>\n",
       "      <td>Literacy_Rate</td>\n",
       "      <td>9</td>\n",
       "    </tr>\n",
       "    <tr>\n",
       "      <th>4</th>\n",
       "      <td>Life_Expectancy</td>\n",
       "      <td>3</td>\n",
       "    </tr>\n",
       "  </tbody>\n",
       "</table>\n",
       "</div>"
      ],
      "text/plain": [
       "                                   column  outlier count\n",
       "0                    Total_Fertility_rate             10\n",
       "1  Female_Labour Force_Participation_Rate              2\n",
       "2                       Unemployment_Rate             10\n",
       "3                           Literacy_Rate              9\n",
       "4                         Life_Expectancy              3"
      ]
     },
     "execution_count": 23,
     "metadata": {},
     "output_type": "execute_result"
    }
   ],
   "source": [
    "oc={}\n",
    "for column in ['Total_Fertility_rate',\n",
    "    'Female_Labour Force_Participation_Rate',\n",
    "    'Unemployment_Rate',\n",
    "    'Literacy_Rate',\n",
    "    'Life_Expectancy']:\n",
    "    Q1=df[column].quantile(0.25)\n",
    "    Q3=df[column].quantile(0.75)\n",
    "    IQR=Q3-Q1\n",
    "    lb=Q1-1.5*IQR\n",
    "    ub=Q3+1.5*IQR\n",
    "    outliers=((df[column]<lb)|(df[column]>ub)).sum()\n",
    "    oc[column]=outliers\n",
    "oc_df=pd.DataFrame(list(oc.items()),columns=[\"column\",\"outlier count\"])\n",
    "oc_df"
   ]
  },
  {
   "cell_type": "code",
   "execution_count": 24,
   "id": "4b8b252a-e258-4bb8-a390-f0830597d87c",
   "metadata": {},
   "outputs": [],
   "source": [
    "import sklearn\n",
    "from sklearn.preprocessing import StandardScaler\n",
    "import statsmodels.api as sm\n",
    "from statsmodels.stats.outliers_influence import variance_inflation_factor\n",
    "from statsmodels.stats.diagnostic import linear_reset, het_goldfeldquandt\n",
    "from scipy.stats import shapiro"
   ]
  },
  {
   "cell_type": "code",
   "execution_count": 25,
   "id": "64618e9f-3eef-4e9e-b601-56d959a6cad7",
   "metadata": {},
   "outputs": [],
   "source": [
    "scaler=StandardScaler()\n",
    "df[['Total_Fertility_rate',\n",
    "    'Life_Expectancy',\n",
    "    'Unemployment_Rate',\n",
    "    'Literacy_Rate']]=scaler.fit_transform(df[['Total_Fertility_rate',\n",
    "    'Life_Expectancy',\n",
    "    'Unemployment_Rate',\n",
    "    'Literacy_Rate']]) "
   ]
  },
  {
   "cell_type": "code",
   "execution_count": 26,
   "id": "e507d05b-5baf-4f4c-b373-cb7a80502250",
   "metadata": {},
   "outputs": [],
   "source": [
    "country_dummies=pd.get_dummies(df[\"Country_Code\"],drop_first=True)\n",
    "country_dummies=country_dummies.astype(int)"
   ]
  },
  {
   "cell_type": "code",
   "execution_count": 27,
   "id": "b15a791b-0532-4548-8b23-58a6c2b25cc0",
   "metadata": {},
   "outputs": [],
   "source": [
    "df=pd.concat([df,country_dummies],axis=1)"
   ]
  },
  {
   "cell_type": "code",
   "execution_count": 28,
   "id": "8b73b377-4bbf-4a89-8f62-7cfa08b7407b",
   "metadata": {},
   "outputs": [
    {
     "data": {
      "text/html": [
       "<div>\n",
       "<style scoped>\n",
       "    .dataframe tbody tr th:only-of-type {\n",
       "        vertical-align: middle;\n",
       "    }\n",
       "\n",
       "    .dataframe tbody tr th {\n",
       "        vertical-align: top;\n",
       "    }\n",
       "\n",
       "    .dataframe thead th {\n",
       "        text-align: right;\n",
       "    }\n",
       "</style>\n",
       "<table border=\"1\" class=\"dataframe\">\n",
       "  <thead>\n",
       "    <tr style=\"text-align: right;\">\n",
       "      <th></th>\n",
       "      <th>Country_Name</th>\n",
       "      <th>Country_Code</th>\n",
       "      <th>Female_Labour Force_Participation_Rate</th>\n",
       "      <th>Unemployment_Rate</th>\n",
       "      <th>Literacy_Rate</th>\n",
       "      <th>Life_Expectancy</th>\n",
       "      <th>Total_Fertility_rate</th>\n",
       "      <th>ALB</th>\n",
       "      <th>ARE</th>\n",
       "      <th>ARG</th>\n",
       "      <th>...</th>\n",
       "      <th>SRB</th>\n",
       "      <th>SSD</th>\n",
       "      <th>SWE</th>\n",
       "      <th>SYC</th>\n",
       "      <th>THA</th>\n",
       "      <th>TUN</th>\n",
       "      <th>TUR</th>\n",
       "      <th>UKR</th>\n",
       "      <th>USA</th>\n",
       "      <th>ZAF</th>\n",
       "    </tr>\n",
       "  </thead>\n",
       "  <tbody>\n",
       "    <tr>\n",
       "      <th>0</th>\n",
       "      <td>Afghanistan</td>\n",
       "      <td>AFG</td>\n",
       "      <td>5.342</td>\n",
       "      <td>2.586971</td>\n",
       "      <td>-3.226256</td>\n",
       "      <td>-1.370435</td>\n",
       "      <td>2.078418</td>\n",
       "      <td>0</td>\n",
       "      <td>0</td>\n",
       "      <td>0</td>\n",
       "      <td>...</td>\n",
       "      <td>0</td>\n",
       "      <td>0</td>\n",
       "      <td>0</td>\n",
       "      <td>0</td>\n",
       "      <td>0</td>\n",
       "      <td>0</td>\n",
       "      <td>0</td>\n",
       "      <td>0</td>\n",
       "      <td>0</td>\n",
       "      <td>0</td>\n",
       "    </tr>\n",
       "    <tr>\n",
       "      <th>1</th>\n",
       "      <td>Albania</td>\n",
       "      <td>ALB</td>\n",
       "      <td>63.446</td>\n",
       "      <td>0.432076</td>\n",
       "      <td>0.749326</td>\n",
       "      <td>0.327064</td>\n",
       "      <td>-0.732473</td>\n",
       "      <td>1</td>\n",
       "      <td>0</td>\n",
       "      <td>0</td>\n",
       "      <td>...</td>\n",
       "      <td>0</td>\n",
       "      <td>0</td>\n",
       "      <td>0</td>\n",
       "      <td>0</td>\n",
       "      <td>0</td>\n",
       "      <td>0</td>\n",
       "      <td>0</td>\n",
       "      <td>0</td>\n",
       "      <td>0</td>\n",
       "      <td>0</td>\n",
       "    </tr>\n",
       "    <tr>\n",
       "      <th>2</th>\n",
       "      <td>Algeria</td>\n",
       "      <td>DZA</td>\n",
       "      <td>18.049</td>\n",
       "      <td>1.882757</td>\n",
       "      <td>-0.458579</td>\n",
       "      <td>0.196487</td>\n",
       "      <td>0.565342</td>\n",
       "      <td>0</td>\n",
       "      <td>0</td>\n",
       "      <td>0</td>\n",
       "      <td>...</td>\n",
       "      <td>0</td>\n",
       "      <td>0</td>\n",
       "      <td>0</td>\n",
       "      <td>0</td>\n",
       "      <td>0</td>\n",
       "      <td>0</td>\n",
       "      <td>0</td>\n",
       "      <td>0</td>\n",
       "      <td>0</td>\n",
       "      <td>0</td>\n",
       "    </tr>\n",
       "    <tr>\n",
       "      <th>3</th>\n",
       "      <td>Argentina</td>\n",
       "      <td>ARG</td>\n",
       "      <td>58.900</td>\n",
       "      <td>-0.094677</td>\n",
       "      <td>0.791340</td>\n",
       "      <td>0.327064</td>\n",
       "      <td>-0.285875</td>\n",
       "      <td>0</td>\n",
       "      <td>0</td>\n",
       "      <td>1</td>\n",
       "      <td>...</td>\n",
       "      <td>0</td>\n",
       "      <td>0</td>\n",
       "      <td>0</td>\n",
       "      <td>0</td>\n",
       "      <td>0</td>\n",
       "      <td>0</td>\n",
       "      <td>0</td>\n",
       "      <td>0</td>\n",
       "      <td>0</td>\n",
       "      <td>0</td>\n",
       "    </tr>\n",
       "    <tr>\n",
       "      <th>4</th>\n",
       "      <td>Armenia</td>\n",
       "      <td>ARM</td>\n",
       "      <td>68.552</td>\n",
       "      <td>-0.314391</td>\n",
       "      <td>0.822851</td>\n",
       "      <td>0.196487</td>\n",
       "      <td>-0.554727</td>\n",
       "      <td>0</td>\n",
       "      <td>0</td>\n",
       "      <td>0</td>\n",
       "      <td>...</td>\n",
       "      <td>0</td>\n",
       "      <td>0</td>\n",
       "      <td>0</td>\n",
       "      <td>0</td>\n",
       "      <td>0</td>\n",
       "      <td>0</td>\n",
       "      <td>0</td>\n",
       "      <td>0</td>\n",
       "      <td>0</td>\n",
       "      <td>0</td>\n",
       "    </tr>\n",
       "  </tbody>\n",
       "</table>\n",
       "<p>5 rows × 111 columns</p>\n",
       "</div>"
      ],
      "text/plain": [
       "  Country_Name Country_Code  Female_Labour Force_Participation_Rate  \\\n",
       "0  Afghanistan          AFG                                   5.342   \n",
       "1      Albania          ALB                                  63.446   \n",
       "2      Algeria          DZA                                  18.049   \n",
       "3    Argentina          ARG                                  58.900   \n",
       "4      Armenia          ARM                                  68.552   \n",
       "\n",
       "   Unemployment_Rate  Literacy_Rate  Life_Expectancy  Total_Fertility_rate  \\\n",
       "0           2.586971      -3.226256        -1.370435              2.078418   \n",
       "1           0.432076       0.749326         0.327064             -0.732473   \n",
       "2           1.882757      -0.458579         0.196487              0.565342   \n",
       "3          -0.094677       0.791340         0.327064             -0.285875   \n",
       "4          -0.314391       0.822851         0.196487             -0.554727   \n",
       "\n",
       "   ALB  ARE  ARG  ...  SRB  SSD  SWE  SYC  THA  TUN  TUR  UKR  USA  ZAF  \n",
       "0    0    0    0  ...    0    0    0    0    0    0    0    0    0    0  \n",
       "1    1    0    0  ...    0    0    0    0    0    0    0    0    0    0  \n",
       "2    0    0    0  ...    0    0    0    0    0    0    0    0    0    0  \n",
       "3    0    0    1  ...    0    0    0    0    0    0    0    0    0    0  \n",
       "4    0    0    0  ...    0    0    0    0    0    0    0    0    0    0  \n",
       "\n",
       "[5 rows x 111 columns]"
      ]
     },
     "execution_count": 28,
     "metadata": {},
     "output_type": "execute_result"
    }
   ],
   "source": [
    "df.head()"
   ]
  },
  {
   "cell_type": "code",
   "execution_count": 29,
   "id": "c0b69ded-ed2e-4648-bc7a-c91356ecd23f",
   "metadata": {},
   "outputs": [],
   "source": [
    "x=df[['Total_Fertility_rate','Life_Expectancy',\n",
    "    'Unemployment_Rate',\n",
    "    'Literacy_Rate']]#+list(country_dummies.columns)]"
   ]
  },
  {
   "cell_type": "code",
   "execution_count": 30,
   "id": "0e94e6c6-776b-4327-b457-0bea3adad94c",
   "metadata": {},
   "outputs": [],
   "source": [
    "y=df['Female_Labour Force_Participation_Rate']"
   ]
  },
  {
   "cell_type": "code",
   "execution_count": 31,
   "id": "2550c949-f60b-4b26-bc48-cca0658e166f",
   "metadata": {},
   "outputs": [],
   "source": [
    "x=sm.add_constant(x)"
   ]
  },
  {
   "cell_type": "code",
   "execution_count": 32,
   "id": "410d7273-2217-420f-9aa5-b4e0d8e51bd9",
   "metadata": {},
   "outputs": [],
   "source": [
    "model=sm.OLS(y,x).fit()"
   ]
  },
  {
   "cell_type": "code",
   "execution_count": 33,
   "id": "617031bd-b927-465e-b1c2-905afc716269",
   "metadata": {},
   "outputs": [
    {
     "data": {
      "text/html": [
       "<table class=\"simpletable\">\n",
       "<caption>OLS Regression Results</caption>\n",
       "<tr>\n",
       "  <th>Dep. Variable:</th>    <td>Female_Labour Force_Participation_Rate</td> <th>  R-squared:         </th> <td>   0.431</td>\n",
       "</tr>\n",
       "<tr>\n",
       "  <th>Model:</th>                              <td>OLS</td>                  <th>  Adj. R-squared:    </th> <td>   0.409</td>\n",
       "</tr>\n",
       "<tr>\n",
       "  <th>Method:</th>                        <td>Least Squares</td>             <th>  F-statistic:       </th> <td>   18.96</td>\n",
       "</tr>\n",
       "<tr>\n",
       "  <th>Date:</th>                        <td>Mon, 23 Dec 2024</td>            <th>  Prob (F-statistic):</th> <td>1.25e-11</td>\n",
       "</tr>\n",
       "<tr>\n",
       "  <th>Time:</th>                            <td>16:57:28</td>                <th>  Log-Likelihood:    </th> <td> -425.84</td>\n",
       "</tr>\n",
       "<tr>\n",
       "  <th>No. Observations:</th>                 <td>   105</td>                 <th>  AIC:               </th> <td>   861.7</td>\n",
       "</tr>\n",
       "<tr>\n",
       "  <th>Df Residuals:</th>                     <td>   100</td>                 <th>  BIC:               </th> <td>   875.0</td>\n",
       "</tr>\n",
       "<tr>\n",
       "  <th>Df Model:</th>                         <td>     4</td>                 <th>                     </th>     <td> </td>   \n",
       "</tr>\n",
       "<tr>\n",
       "  <th>Covariance Type:</th>                 <td>nonrobust</td>               <th>                     </th>     <td> </td>   \n",
       "</tr>\n",
       "</table>\n",
       "<table class=\"simpletable\">\n",
       "<tr>\n",
       "            <td></td>              <th>coef</th>     <th>std err</th>      <th>t</th>      <th>P>|t|</th>  <th>[0.025</th>    <th>0.975]</th>  \n",
       "</tr>\n",
       "<tr>\n",
       "  <th>const</th>                <td>   57.7488</td> <td>    1.397</td> <td>   41.347</td> <td> 0.000</td> <td>   54.978</td> <td>   60.520</td>\n",
       "</tr>\n",
       "<tr>\n",
       "  <th>Total_Fertility_rate</th> <td>   -0.9693</td> <td>    2.419</td> <td>   -0.401</td> <td> 0.689</td> <td>   -5.768</td> <td>    3.829</td>\n",
       "</tr>\n",
       "<tr>\n",
       "  <th>Life_Expectancy</th>      <td>    0.8627</td> <td>    1.779</td> <td>    0.485</td> <td> 0.629</td> <td>   -2.667</td> <td>    4.392</td>\n",
       "</tr>\n",
       "<tr>\n",
       "  <th>Unemployment_Rate</th>    <td>  -10.9724</td> <td>    1.442</td> <td>   -7.610</td> <td> 0.000</td> <td>  -13.833</td> <td>   -8.112</td>\n",
       "</tr>\n",
       "<tr>\n",
       "  <th>Literacy_Rate</th>        <td>    2.2954</td> <td>    2.197</td> <td>    1.045</td> <td> 0.299</td> <td>   -2.064</td> <td>    6.654</td>\n",
       "</tr>\n",
       "</table>\n",
       "<table class=\"simpletable\">\n",
       "<tr>\n",
       "  <th>Omnibus:</th>       <td> 0.481</td> <th>  Durbin-Watson:     </th> <td>   1.829</td>\n",
       "</tr>\n",
       "<tr>\n",
       "  <th>Prob(Omnibus):</th> <td> 0.786</td> <th>  Jarque-Bera (JB):  </th> <td>   0.473</td>\n",
       "</tr>\n",
       "<tr>\n",
       "  <th>Skew:</th>          <td>-0.156</td> <th>  Prob(JB):          </th> <td>   0.789</td>\n",
       "</tr>\n",
       "<tr>\n",
       "  <th>Kurtosis:</th>      <td> 2.896</td> <th>  Cond. No.          </th> <td>    3.32</td>\n",
       "</tr>\n",
       "</table><br/><br/>Notes:<br/>[1] Standard Errors assume that the covariance matrix of the errors is correctly specified."
      ],
      "text/latex": [
       "\\begin{center}\n",
       "\\begin{tabular}{lclc}\n",
       "\\toprule\n",
       "\\textbf{Dep. Variable:}         & Female\\_Labour Force\\_Participation\\_Rate & \\textbf{  R-squared:         } &     0.431   \\\\\n",
       "\\textbf{Model:}                 &                    OLS                    & \\textbf{  Adj. R-squared:    } &     0.409   \\\\\n",
       "\\textbf{Method:}                &               Least Squares               & \\textbf{  F-statistic:       } &     18.96   \\\\\n",
       "\\textbf{Date:}                  &              Mon, 23 Dec 2024             & \\textbf{  Prob (F-statistic):} &  1.25e-11   \\\\\n",
       "\\textbf{Time:}                  &                  16:57:28                 & \\textbf{  Log-Likelihood:    } &   -425.84   \\\\\n",
       "\\textbf{No. Observations:}      &                      105                  & \\textbf{  AIC:               } &     861.7   \\\\\n",
       "\\textbf{Df Residuals:}          &                      100                  & \\textbf{  BIC:               } &     875.0   \\\\\n",
       "\\textbf{Df Model:}              &                        4                  & \\textbf{                     } &             \\\\\n",
       "\\textbf{Covariance Type:}       &                 nonrobust                 & \\textbf{                     } &             \\\\\n",
       "\\bottomrule\n",
       "\\end{tabular}\n",
       "\\begin{tabular}{lcccccc}\n",
       "                                & \\textbf{coef} & \\textbf{std err} & \\textbf{t} & \\textbf{P$> |$t$|$} & \\textbf{[0.025} & \\textbf{0.975]}  \\\\\n",
       "\\midrule\n",
       "\\textbf{const}                  &      57.7488  &        1.397     &    41.347  &         0.000        &       54.978    &       60.520     \\\\\n",
       "\\textbf{Total\\_Fertility\\_rate} &      -0.9693  &        2.419     &    -0.401  &         0.689        &       -5.768    &        3.829     \\\\\n",
       "\\textbf{Life\\_Expectancy}       &       0.8627  &        1.779     &     0.485  &         0.629        &       -2.667    &        4.392     \\\\\n",
       "\\textbf{Unemployment\\_Rate}     &     -10.9724  &        1.442     &    -7.610  &         0.000        &      -13.833    &       -8.112     \\\\\n",
       "\\textbf{Literacy\\_Rate}         &       2.2954  &        2.197     &     1.045  &         0.299        &       -2.064    &        6.654     \\\\\n",
       "\\bottomrule\n",
       "\\end{tabular}\n",
       "\\begin{tabular}{lclc}\n",
       "\\textbf{Omnibus:}       &  0.481 & \\textbf{  Durbin-Watson:     } &    1.829  \\\\\n",
       "\\textbf{Prob(Omnibus):} &  0.786 & \\textbf{  Jarque-Bera (JB):  } &    0.473  \\\\\n",
       "\\textbf{Skew:}          & -0.156 & \\textbf{  Prob(JB):          } &    0.789  \\\\\n",
       "\\textbf{Kurtosis:}      &  2.896 & \\textbf{  Cond. No.          } &     3.32  \\\\\n",
       "\\bottomrule\n",
       "\\end{tabular}\n",
       "%\\caption{OLS Regression Results}\n",
       "\\end{center}\n",
       "\n",
       "Notes: \\newline\n",
       " [1] Standard Errors assume that the covariance matrix of the errors is correctly specified."
      ],
      "text/plain": [
       "<class 'statsmodels.iolib.summary.Summary'>\n",
       "\"\"\"\n",
       "                                      OLS Regression Results                                      \n",
       "==================================================================================================\n",
       "Dep. Variable:     Female_Labour Force_Participation_Rate   R-squared:                       0.431\n",
       "Model:                                                OLS   Adj. R-squared:                  0.409\n",
       "Method:                                     Least Squares   F-statistic:                     18.96\n",
       "Date:                                    Mon, 23 Dec 2024   Prob (F-statistic):           1.25e-11\n",
       "Time:                                            16:57:28   Log-Likelihood:                -425.84\n",
       "No. Observations:                                     105   AIC:                             861.7\n",
       "Df Residuals:                                         100   BIC:                             875.0\n",
       "Df Model:                                               4                                         \n",
       "Covariance Type:                                nonrobust                                         \n",
       "========================================================================================\n",
       "                           coef    std err          t      P>|t|      [0.025      0.975]\n",
       "----------------------------------------------------------------------------------------\n",
       "const                   57.7488      1.397     41.347      0.000      54.978      60.520\n",
       "Total_Fertility_rate    -0.9693      2.419     -0.401      0.689      -5.768       3.829\n",
       "Life_Expectancy          0.8627      1.779      0.485      0.629      -2.667       4.392\n",
       "Unemployment_Rate      -10.9724      1.442     -7.610      0.000     -13.833      -8.112\n",
       "Literacy_Rate            2.2954      2.197      1.045      0.299      -2.064       6.654\n",
       "==============================================================================\n",
       "Omnibus:                        0.481   Durbin-Watson:                   1.829\n",
       "Prob(Omnibus):                  0.786   Jarque-Bera (JB):                0.473\n",
       "Skew:                          -0.156   Prob(JB):                        0.789\n",
       "Kurtosis:                       2.896   Cond. No.                         3.32\n",
       "==============================================================================\n",
       "\n",
       "Notes:\n",
       "[1] Standard Errors assume that the covariance matrix of the errors is correctly specified.\n",
       "\"\"\""
      ]
     },
     "execution_count": 33,
     "metadata": {},
     "output_type": "execute_result"
    }
   ],
   "source": [
    "model.summary()"
   ]
  },
  {
   "cell_type": "code",
   "execution_count": 34,
   "id": "c14096b9-9c22-40f6-a603-157704932e0e",
   "metadata": {},
   "outputs": [
    {
     "name": "stdout",
     "output_type": "stream",
     "text": [
      "<Wald test (chi2): statistic=1.7116344249935163, p-value=0.19077344946960115, df_denom=1>\n"
     ]
    }
   ],
   "source": [
    "RESET_test=linear_reset(model,power=2)\n",
    "print(RESET_test)\n",
    "#Since the p-value is less than 0.05, the result is statistically significant. This indicates evidence of misspecification in the model."
   ]
  },
  {
   "cell_type": "code",
   "execution_count": 35,
   "id": "50a4cdd1-a676-43ca-b999-411470dd1123",
   "metadata": {},
   "outputs": [
    {
     "data": {
      "image/png": "[encoded data removed]",
      "text/plain": [
       "<Figure size 640x480 with 1 Axes>"
      ]
     },
     "metadata": {},
     "output_type": "display_data"
    }
   ],
   "source": [
    "sm.qqplot(model.resid,line=\"s\")\n",
    "plt.title(\"QQplot of Residuals\")\n",
    "plt.show()"
   ]
  },
  {
   "cell_type": "code",
   "execution_count": 36,
   "id": "105b5906-2acd-4b4b-9ccc-20f5303c25cb",
   "metadata": {},
   "outputs": [
    {
     "name": "stdout",
     "output_type": "stream",
     "text": [
      "Test Statistic:0.9712229431811642, p-value:0.021919383264817387\n"
     ]
    }
   ],
   "source": [
    "shapiro_test=shapiro(model.resid)\n",
    "print(f\"Test Statistic:{shapiro_test.statistic}, p-value:{shapiro_test.pvalue}\")"
   ]
  },
  {
   "cell_type": "code",
   "execution_count": 37,
   "id": "9a00dd74-69c1-4bae-a792-40941322e499",
   "metadata": {},
   "outputs": [
    {
     "name": "stdout",
     "output_type": "stream",
     "text": [
      "Test Statistic:1.483551214092357, p-value:0.08856347839621699\n"
     ]
    }
   ],
   "source": [
    "gq_test=het_goldfeldquandt(model.resid,model.model.exog)\n",
    "print(f\"Test Statistic:{gq_test[0]}, p-value:{gq_test[1]}\")"
   ]
  },
  {
   "cell_type": "code",
   "execution_count": 38,
   "id": "d354fa89-6179-4189-ae5f-2b062b753f5d",
   "metadata": {},
   "outputs": [],
   "source": [
    "from scipy.stats import boxcox"
   ]
  },
  {
   "cell_type": "code",
   "execution_count": 39,
   "id": "46f732db-de8d-4f69-a92c-ce9d0f700a71",
   "metadata": {},
   "outputs": [
    {
     "name": "stdout",
     "output_type": "stream",
     "text": [
      "Optimal lambda for Box-Cox transformation: 1.8880215852470519\n"
     ]
    }
   ],
   "source": [
    "y_transform, lambda_value = boxcox(y)\n",
    "\n",
    "print(f\"Optimal lambda for Box-Cox transformation: {lambda_value}\")"
   ]
  },
  {
   "cell_type": "code",
   "execution_count": 40,
   "id": "2a819ca4-a514-4d6e-a340-4927cf2c2397",
   "metadata": {
    "scrolled": true
   },
   "outputs": [
    {
     "data": {
      "text/html": [
       "<table class=\"simpletable\">\n",
       "<caption>OLS Regression Results</caption>\n",
       "<tr>\n",
       "  <th>Dep. Variable:</th>            <td>y</td>        <th>  R-squared:         </th> <td>   0.366</td>\n",
       "</tr>\n",
       "<tr>\n",
       "  <th>Model:</th>                   <td>OLS</td>       <th>  Adj. R-squared:    </th> <td>   0.341</td>\n",
       "</tr>\n",
       "<tr>\n",
       "  <th>Method:</th>             <td>Least Squares</td>  <th>  F-statistic:       </th> <td>   14.45</td>\n",
       "</tr>\n",
       "<tr>\n",
       "  <th>Date:</th>             <td>Mon, 23 Dec 2024</td> <th>  Prob (F-statistic):</th> <td>2.41e-09</td>\n",
       "</tr>\n",
       "<tr>\n",
       "  <th>Time:</th>                 <td>16:57:28</td>     <th>  Log-Likelihood:    </th> <td> -795.46</td>\n",
       "</tr>\n",
       "<tr>\n",
       "  <th>No. Observations:</th>      <td>   105</td>      <th>  AIC:               </th> <td>   1601.</td>\n",
       "</tr>\n",
       "<tr>\n",
       "  <th>Df Residuals:</th>          <td>   100</td>      <th>  BIC:               </th> <td>   1614.</td>\n",
       "</tr>\n",
       "<tr>\n",
       "  <th>Df Model:</th>              <td>     4</td>      <th>                     </th>     <td> </td>   \n",
       "</tr>\n",
       "<tr>\n",
       "  <th>Covariance Type:</th>      <td>nonrobust</td>    <th>                     </th>     <td> </td>   \n",
       "</tr>\n",
       "</table>\n",
       "<table class=\"simpletable\">\n",
       "<tr>\n",
       "            <td></td>              <th>coef</th>     <th>std err</th>      <th>t</th>      <th>P>|t|</th>  <th>[0.025</th>    <th>0.975]</th>  \n",
       "</tr>\n",
       "<tr>\n",
       "  <th>const</th>                <td> 1219.2965</td> <td>   47.196</td> <td>   25.835</td> <td> 0.000</td> <td> 1125.662</td> <td> 1312.931</td>\n",
       "</tr>\n",
       "<tr>\n",
       "  <th>Total_Fertility_rate</th> <td>  -45.2549</td> <td>   81.732</td> <td>   -0.554</td> <td> 0.581</td> <td> -207.410</td> <td>  116.900</td>\n",
       "</tr>\n",
       "<tr>\n",
       "  <th>Life_Expectancy</th>      <td>   44.4300</td> <td>   60.117</td> <td>    0.739</td> <td> 0.462</td> <td>  -74.841</td> <td>  163.701</td>\n",
       "</tr>\n",
       "<tr>\n",
       "  <th>Unemployment_Rate</th>    <td> -316.3857</td> <td>   48.723</td> <td>   -6.494</td> <td> 0.000</td> <td> -413.051</td> <td> -219.721</td>\n",
       "</tr>\n",
       "<tr>\n",
       "  <th>Literacy_Rate</th>        <td>   44.2666</td> <td>   74.244</td> <td>    0.596</td> <td> 0.552</td> <td> -103.031</td> <td>  191.565</td>\n",
       "</tr>\n",
       "</table>\n",
       "<table class=\"simpletable\">\n",
       "<tr>\n",
       "  <th>Omnibus:</th>       <td> 3.284</td> <th>  Durbin-Watson:     </th> <td>   1.868</td>\n",
       "</tr>\n",
       "<tr>\n",
       "  <th>Prob(Omnibus):</th> <td> 0.194</td> <th>  Jarque-Bera (JB):  </th> <td>   2.132</td>\n",
       "</tr>\n",
       "<tr>\n",
       "  <th>Skew:</th>          <td>-0.134</td> <th>  Prob(JB):          </th> <td>   0.344</td>\n",
       "</tr>\n",
       "<tr>\n",
       "  <th>Kurtosis:</th>      <td> 2.355</td> <th>  Cond. No.          </th> <td>    3.32</td>\n",
       "</tr>\n",
       "</table><br/><br/>Notes:<br/>[1] Standard Errors assume that the covariance matrix of the errors is correctly specified."
      ],
      "text/latex": [
       "\\begin{center}\n",
       "\\begin{tabular}{lclc}\n",
       "\\toprule\n",
       "\\textbf{Dep. Variable:}         &        y         & \\textbf{  R-squared:         } &     0.366   \\\\\n",
       "\\textbf{Model:}                 &       OLS        & \\textbf{  Adj. R-squared:    } &     0.341   \\\\\n",
       "\\textbf{Method:}                &  Least Squares   & \\textbf{  F-statistic:       } &     14.45   \\\\\n",
       "\\textbf{Date:}                  & Mon, 23 Dec 2024 & \\textbf{  Prob (F-statistic):} &  2.41e-09   \\\\\n",
       "\\textbf{Time:}                  &     16:57:28     & \\textbf{  Log-Likelihood:    } &   -795.46   \\\\\n",
       "\\textbf{No. Observations:}      &         105      & \\textbf{  AIC:               } &     1601.   \\\\\n",
       "\\textbf{Df Residuals:}          &         100      & \\textbf{  BIC:               } &     1614.   \\\\\n",
       "\\textbf{Df Model:}              &           4      & \\textbf{                     } &             \\\\\n",
       "\\textbf{Covariance Type:}       &    nonrobust     & \\textbf{                     } &             \\\\\n",
       "\\bottomrule\n",
       "\\end{tabular}\n",
       "\\begin{tabular}{lcccccc}\n",
       "                                & \\textbf{coef} & \\textbf{std err} & \\textbf{t} & \\textbf{P$> |$t$|$} & \\textbf{[0.025} & \\textbf{0.975]}  \\\\\n",
       "\\midrule\n",
       "\\textbf{const}                  &    1219.2965  &       47.196     &    25.835  &         0.000        &     1125.662    &     1312.931     \\\\\n",
       "\\textbf{Total\\_Fertility\\_rate} &     -45.2549  &       81.732     &    -0.554  &         0.581        &     -207.410    &      116.900     \\\\\n",
       "\\textbf{Life\\_Expectancy}       &      44.4300  &       60.117     &     0.739  &         0.462        &      -74.841    &      163.701     \\\\\n",
       "\\textbf{Unemployment\\_Rate}     &    -316.3857  &       48.723     &    -6.494  &         0.000        &     -413.051    &     -219.721     \\\\\n",
       "\\textbf{Literacy\\_Rate}         &      44.2666  &       74.244     &     0.596  &         0.552        &     -103.031    &      191.565     \\\\\n",
       "\\bottomrule\n",
       "\\end{tabular}\n",
       "\\begin{tabular}{lclc}\n",
       "\\textbf{Omnibus:}       &  3.284 & \\textbf{  Durbin-Watson:     } &    1.868  \\\\\n",
       "\\textbf{Prob(Omnibus):} &  0.194 & \\textbf{  Jarque-Bera (JB):  } &    2.132  \\\\\n",
       "\\textbf{Skew:}          & -0.134 & \\textbf{  Prob(JB):          } &    0.344  \\\\\n",
       "\\textbf{Kurtosis:}      &  2.355 & \\textbf{  Cond. No.          } &     3.32  \\\\\n",
       "\\bottomrule\n",
       "\\end{tabular}\n",
       "%\\caption{OLS Regression Results}\n",
       "\\end{center}\n",
       "\n",
       "Notes: \\newline\n",
       " [1] Standard Errors assume that the covariance matrix of the errors is correctly specified."
      ],
      "text/plain": [
       "<class 'statsmodels.iolib.summary.Summary'>\n",
       "\"\"\"\n",
       "                            OLS Regression Results                            \n",
       "==============================================================================\n",
       "Dep. Variable:                      y   R-squared:                       0.366\n",
       "Model:                            OLS   Adj. R-squared:                  0.341\n",
       "Method:                 Least Squares   F-statistic:                     14.45\n",
       "Date:                Mon, 23 Dec 2024   Prob (F-statistic):           2.41e-09\n",
       "Time:                        16:57:28   Log-Likelihood:                -795.46\n",
       "No. Observations:                 105   AIC:                             1601.\n",
       "Df Residuals:                     100   BIC:                             1614.\n",
       "Df Model:                           4                                         \n",
       "Covariance Type:            nonrobust                                         \n",
       "========================================================================================\n",
       "                           coef    std err          t      P>|t|      [0.025      0.975]\n",
       "----------------------------------------------------------------------------------------\n",
       "const                 1219.2965     47.196     25.835      0.000    1125.662    1312.931\n",
       "Total_Fertility_rate   -45.2549     81.732     -0.554      0.581    -207.410     116.900\n",
       "Life_Expectancy         44.4300     60.117      0.739      0.462     -74.841     163.701\n",
       "Unemployment_Rate     -316.3857     48.723     -6.494      0.000    -413.051    -219.721\n",
       "Literacy_Rate           44.2666     74.244      0.596      0.552    -103.031     191.565\n",
       "==============================================================================\n",
       "Omnibus:                        3.284   Durbin-Watson:                   1.868\n",
       "Prob(Omnibus):                  0.194   Jarque-Bera (JB):                2.132\n",
       "Skew:                          -0.134   Prob(JB):                        0.344\n",
       "Kurtosis:                       2.355   Cond. No.                         3.32\n",
       "==============================================================================\n",
       "\n",
       "Notes:\n",
       "[1] Standard Errors assume that the covariance matrix of the errors is correctly specified.\n",
       "\"\"\""
      ]
     },
     "execution_count": 40,
     "metadata": {},
     "output_type": "execute_result"
    }
   ],
   "source": [
    "model=sm.OLS(y_transform,x).fit()\n",
    "model.summary()"
   ]
  },
  {
   "cell_type": "code",
   "execution_count": 41,
   "id": "6d23165c-e133-48a5-a65d-1e23e82dadee",
   "metadata": {},
   "outputs": [
    {
     "name": "stdout",
     "output_type": "stream",
     "text": [
      "Test Statistic for new model:0.980846143047739, p-value:0.13346138208780906\n"
     ]
    }
   ],
   "source": [
    "shapiro_test=shapiro(model.resid)\n",
    "print(f\"Test Statistic for new model:{shapiro_test.statistic}, p-value:{shapiro_test.pvalue}\")"
   ]
  },
  {
   "cell_type": "code",
   "execution_count": null,
   "id": "2ded28da-2968-4e14-bcd9-a247a5c54e7b",
   "metadata": {},
   "outputs": [],
   "source": []
  }
 ],
 "metadata": {
  "kernelspec": {
   "display_name": "Python 3 (ipykernel)",
   "language": "python",
   "name": "python3"
  },
  "language_info": {
   "codemirror_mode": {
    "name": "ipython",
    "version": 3
   },
   "file_extension": ".py",
   "mimetype": "text/x-python",
   "name": "python",
   "nbconvert_exporter": "python",
   "pygments_lexer": "ipython3",
   "version": "3.12.6"
  }
 },
 "nbformat": 4,
 "nbformat_minor": 5
}
